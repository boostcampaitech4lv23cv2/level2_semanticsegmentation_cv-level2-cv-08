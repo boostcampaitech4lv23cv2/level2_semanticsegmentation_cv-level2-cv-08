{
 "cells": [
  {
   "cell_type": "code",
   "execution_count": 1,
   "metadata": {},
   "outputs": [
    {
     "name": "stderr",
     "output_type": "stream",
     "text": [
      "/opt/conda/envs/mms/lib/python3.8/site-packages/tqdm/auto.py:22: TqdmWarning: IProgress not found. Please update jupyter and ipywidgets. See https://ipywidgets.readthedocs.io/en/stable/user_install.html\n",
      "  from .autonotebook import tqdm as notebook_tqdm\n",
      "/opt/conda/envs/mms/lib/python3.8/site-packages/mmcv/__init__.py:20: UserWarning: On January 1, 2023, MMCV will release v2.0.0, in which it will remove components related to the training process and add a data transformation module. In addition, it will rename the package names mmcv to mmcv-lite and mmcv-full to mmcv. See https://github.com/open-mmlab/mmcv/blob/master/docs/en/compatibility.md for more details.\n",
      "  warnings.warn(\n"
     ]
    }
   ],
   "source": [
    "from mmcv import Config\n",
    "from mmseg.models import build_segmentor\n",
    "from mmseg.datasets import build_dataloader, build_dataset\n",
    "from mmcv.runner import load_checkpoint\n",
    "import os\n",
    "from mmcv.parallel import MMDataParallel\n",
    "from mmseg.apis import single_gpu_test\n",
    "\n",
    "import json\n",
    "import pandas as pd\n",
    "import argparse"
   ]
  },
  {
   "cell_type": "code",
   "execution_count": 2,
   "metadata": {},
   "outputs": [],
   "source": [
    "config_path = 'configs/_KDI_/uper_swin/uper_swin_large_augtest_6.py'\n",
    "work_dir = 'work_dirs/uper_swin_large_augtest_6'\n",
    "result_path = work_dir\n",
    "best_iter = 18500\n",
    "\n",
    "test_img_dir = '/opt/ml/input/data/mmseg/img_dir/test'\n",
    "test_json = '../data/test.json'\n",
    "\n",
    "# test_img_dir = '/opt/ml/input/data/mmseg/img_dir/val'\n",
    "# test_json = '../data/val.json'\n",
    "\n",
    "classes = [\n",
    "    'Background', 'General trash', 'Paper', 'Paper pack', 'Metal', 'Glass', 'Plastic', 'Styrofoam', 'Plastic bag', 'Battery', 'Clothing'\n",
    "]\n",
    "seed = 8"
   ]
  },
  {
   "cell_type": "code",
   "execution_count": 3,
   "metadata": {},
   "outputs": [
    {
     "name": "stderr",
     "output_type": "stream",
     "text": [
      "2022-12-30 12:18:52,351 - mmseg - INFO - Loaded 819 images\n",
      "/opt/ml/input/mmsegmentation/mmseg/models/losses/cross_entropy_loss.py:235: UserWarning: Default ``avg_non_ignore`` is False, if you would like to ignore the certain label and average loss over non-ignore labels, which is the same with PyTorch official cross_entropy, set ``avg_non_ignore=True``.\n",
      "  warnings.warn(\n"
     ]
    },
    {
     "name": "stdout",
     "output_type": "stream",
     "text": [
      "load checkpoint from local path: work_dirs/uper_swin_large_augtest_6/best_mIoU_iter_18500.pth\n",
      "[>>>>>>>>>>>>>>>>>>>>>>>>>>>>>] 819/819, 11.7 task/s, elapsed: 70s, ETA:     0s"
     ]
    }
   ],
   "source": [
    "cfg = Config.fromfile(config_path)\n",
    "\n",
    "cfg.data.test.classes = classes\n",
    "cfg.data.test.img_dir = test_img_dir\n",
    "cfg.data.test.pipeline[1]['img_scale'] = (512, 512)\n",
    "cfg.data.test.test_mode = True\n",
    "cfg.data.samples_per_gpu = 4\n",
    "cfg.seed = seed\n",
    "cfg.gpu_ids = [1]\n",
    "cfg.work_dir = work_dir\n",
    "#cfg.optimizer_config.grad_clip = dict(max_norm=35, norm_type=2) # ???\n",
    "cfg.model.train_cfg = None\n",
    "    \n",
    "dataset = build_dataset(cfg.data.test)\n",
    "data_loader = build_dataloader(dataset, samples_per_gpu=1, workers_per_gpu=cfg.data.workers_per_gpu, dist=False, shuffle=False)\n",
    "\n",
    "checkpoint_path = os.path.join(cfg.work_dir, f'best_mIoU_iter_{best_iter}.pth')\n",
    "\n",
    "model = build_segmentor(cfg.model, test_cfg=cfg.get('test_cfg'))\n",
    "checkpoint = load_checkpoint(model, checkpoint_path, map_location='cpu')\n",
    "\n",
    "model.CLASSES = classes\n",
    "model = MMDataParallel(model.cuda(), device_ids=[0])\n",
    "\n",
    "output = single_gpu_test(model, data_loader)\n",
    "\n",
    "with open(test_json, \"r\", encoding=\"utf8\") as file:\n",
    "    test_json_info = json.load(file)\n",
    "    \n",
    "file_names, preds = [], []\n",
    "\n",
    "# for img_id, pred in enumerate(output):\n",
    "#     file_names.append(test_json_info[\"images\"][img_id][\"file_name\"])\n",
    "#     pred = pred.reshape(1, 512, 512)\n",
    "#     pred = pred.reshape((1, 256, 2, 256, 2)).max(4).max(2)\n",
    "#     preds.append(' '.join(str(e) for e in pred.flatten()))\n",
    "\n",
    "# submission = pd.read_csv('/opt/ml/input/code/submission/sample_submission.csv', index_col=None)\n",
    "\n",
    "# # PredictionString 대입\n",
    "# for file_name, string in zip(file_names, preds):\n",
    "#     submission = submission.append({\"image_id\" : file_name, \"PredictionString\" : string}, \n",
    "#                                 ignore_index=True)"
   ]
  },
  {
   "cell_type": "code",
   "execution_count": 2,
   "metadata": {},
   "outputs": [],
   "source": [
    "from PIL import Image\n",
    "import numpy as np\n",
    "from tqdm import tqdm\n",
    "import shutil"
   ]
  },
  {
   "cell_type": "code",
   "execution_count": 3,
   "metadata": {},
   "outputs": [],
   "source": [
    "output_ann_dir = '/opt/ml/input/data/mmseg/ann_dir/train_pseudo'\n",
    "output_img_dir='/opt/ml/input/data/mmseg/img_dir/train_pseudo/'\n",
    "os.makedirs(output_ann_dir, exist_ok=True)\n",
    "os.makedirs(output_img_dir, exist_ok=True)"
   ]
  },
  {
   "cell_type": "code",
   "execution_count": null,
   "metadata": {},
   "outputs": [],
   "source": [
    "# save annotatino imgs\n",
    "for i in tqdm(range(len(output))):\n",
    "    img = Image.fromarray(np.uint8(output[i]))\n",
    "    output_ann_file = os.path.join(output_ann_dir, f'pseudo_{i:04}.png')\n",
    "    img.save(output_ann_file)\n"
   ]
  },
  {
   "cell_type": "code",
   "execution_count": 75,
   "metadata": {},
   "outputs": [
    {
     "name": "stderr",
     "output_type": "stream",
     "text": [
      "100%|██████████| 819/819 [00:00<00:00, 5965.39it/s]\n"
     ]
    }
   ],
   "source": [
    "# copy test imgs\n",
    "for i in tqdm(os.listdir(test_img_dir)):\n",
    "    shutil.copy(test_img_dir+'/'+i, output_img_dir+'/pseudo_'+i)"
   ]
  },
  {
   "cell_type": "code",
   "execution_count": null,
   "metadata": {},
   "outputs": [],
   "source": []
  }
 ],
 "metadata": {
  "kernelspec": {
   "display_name": "mms",
   "language": "python",
   "name": "python3"
  },
  "language_info": {
   "codemirror_mode": {
    "name": "ipython",
    "version": 3
   },
   "file_extension": ".py",
   "mimetype": "text/x-python",
   "name": "python",
   "nbconvert_exporter": "python",
   "pygments_lexer": "ipython3",
   "version": "3.8.15"
  },
  "orig_nbformat": 4,
  "vscode": {
   "interpreter": {
    "hash": "b6fc22222bf602a7ded06b59a65d642181a6c29bf799976f7a0f84ac0258e85e"
   }
  }
 },
 "nbformat": 4,
 "nbformat_minor": 2
}
