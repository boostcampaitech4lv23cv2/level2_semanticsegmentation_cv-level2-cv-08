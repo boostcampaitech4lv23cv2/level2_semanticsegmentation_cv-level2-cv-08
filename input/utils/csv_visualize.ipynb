{
 "cells": [
  {
   "cell_type": "code",
   "execution_count": 4,
   "metadata": {},
   "outputs": [],
   "source": [
    "import cv2\n",
    "import random\n",
    "import numpy as np\n",
    "import matplotlib as mpl\n",
    "import matplotlib.pyplot as plt\n",
    "import matplotlib.image as mpimg\n",
    "from matplotlib import gridspec\n",
    "from collections import defaultdict\n",
    "from PIL import Image\n",
    "import csv\n",
    "import os\n",
    "from mpl_toolkits.axes_grid1 import make_axes_locatable\n",
    "from tqdm import tqdm"
   ]
  },
  {
   "cell_type": "code",
   "execution_count": 5,
   "metadata": {},
   "outputs": [
    {
     "data": {
      "text/plain": [
       "131072"
      ]
     },
     "execution_count": 5,
     "metadata": {},
     "output_type": "execute_result"
    }
   ],
   "source": [
    "csv.field_size_limit(1000000)"
   ]
  },
  {
   "cell_type": "code",
   "execution_count": 6,
   "metadata": {},
   "outputs": [],
   "source": [
    "csv_file = '../submission_csv/uper_swinlarge_augtest6_tta3.csv'\n",
    "img_dir = '../data/'"
   ]
  },
  {
   "cell_type": "code",
   "execution_count": 7,
   "metadata": {},
   "outputs": [],
   "source": [
    "imgs=[]\n",
    "f = open(csv_file, 'r', encoding='utf-8')\n",
    "rdr = csv.reader(f)\n",
    "for line in rdr:\n",
    "    imgs.append(line)\n",
    "f.close()"
   ]
  },
  {
   "cell_type": "code",
   "execution_count": 8,
   "metadata": {},
   "outputs": [],
   "source": [
    "for i in range(1, len(imgs)):\n",
    "    file_path = os.path.join(img_dir, imgs[i][0])\n",
    "    img = mpimg.imread(file_path)\n",
    "\n",
    "    mask_array=np.array(imgs[1][1].split(), dtype=np.uint8).reshape(256,256)\n",
    "    mask = Image.fromarray(mask_array)"
   ]
  },
  {
   "cell_type": "code",
   "execution_count": 14,
   "metadata": {},
   "outputs": [
    {
     "name": "stdout",
     "output_type": "stream",
     "text": [
      "batch_01_vt/0061.jpg\n"
     ]
    }
   ],
   "source": [
    "i=327\n",
    "print(imgs[i][0])\n",
    "file_path = os.path.join(img_dir, imgs[i][0])\n",
    "img = mpimg.imread(file_path)\n",
    "\n",
    "mask_array=np.array(imgs[i][1].split(), dtype=np.uint8).reshape(256,256)\n",
    "mask = Image.fromarray(mask_array)\n",
    "\n",
    "fig = plt.figure(figsize=(16, 16)) \n",
    "\n",
    "ax1 = fig.add_subplot(121)\n",
    "im1 = ax1.imshow(img, interpolation='None')\n",
    "\n",
    "divider = make_axes_locatable(ax1)\n",
    "\n",
    "ax2 = fig.add_subplot(122)\n",
    "im2 = ax2.imshow(mask, interpolation='None', cmap = mpl.cm.tab20)\n",
    "\n",
    "divider = make_axes_locatable(ax2)\n",
    "cax = divider.append_axes('right', size='5%', pad=0.05)\n",
    "\n",
    "classes = ('Backgroud','General trash','Paper','Paper pack','Metal','Glass','Plastic','Styrofoam','Plastic bag','Battery','Clothing')\n",
    "\n",
    "cbar = fig.colorbar(im2, cax=cax)\n",
    "cbar.set_ticks([0,1,2,3,4,5,6,7,8,9,10])\n",
    "cbar.set_ticklabels(classes)\n"
   ]
  },
  {
   "cell_type": "code",
   "execution_count": 9,
   "metadata": {},
   "outputs": [
    {
     "name": "stdout",
     "output_type": "stream",
     "text": [
      "Backgroud 51262\n",
      "Paper pack 14274\n"
     ]
    }
   ],
   "source": [
    "classes = ('Backgroud','General trash','Paper','Paper pack','Metal','Glass','Plastic','Styrofoam','Plastic bag','Battery','Clothing')\n",
    "\n",
    "d= defaultdict(lambda:0)\n",
    "for i in range(256):\n",
    "    for j in range(256):\n",
    "        d[mask_array[i][j]]+=1\n",
    "\n",
    "for i in d:\n",
    "    print(classes[i], d[i])"
   ]
  },
  {
   "cell_type": "code",
   "execution_count": null,
   "metadata": {},
   "outputs": [],
   "source": []
  },
  {
   "cell_type": "code",
   "execution_count": null,
   "metadata": {},
   "outputs": [],
   "source": [
    "# save visualized imgs\n",
    "mpl.pyplot.ioff()\n",
    "for i in tqdm(range(1, len(imgs))):\n",
    "    file_path = os.path.join(img_dir, imgs[i][0])\n",
    "    img = mpimg.imread(file_path)\n",
    "    mask_array=np.array(imgs[i][1].split(), dtype=np.uint8).reshape(256,256)\n",
    "    mask = Image.fromarray(mask_array)\n",
    "\n",
    "    fig = plt.figure(figsize=(16, 16)) \n",
    "\n",
    "    ax1 = fig.add_subplot(121)\n",
    "    im1 = ax1.imshow(img, interpolation='None')\n",
    "\n",
    "    divider = make_axes_locatable(ax1)\n",
    "\n",
    "    ax2 = fig.add_subplot(122)\n",
    "    im2 = ax2.imshow(mask, interpolation='None', cmap = mpl.cm.tab20)\n",
    "\n",
    "    divider = make_axes_locatable(ax2)\n",
    "    cax = divider.append_axes('right', size='5%', pad=0.05)\n",
    "\n",
    "    classes = ('Backgroud','General trash','Paper','Paper pack','Metal','Glass','Plastic','Styrofoam','Plastic bag','Battery','Clothing')\n",
    "\n",
    "    cbar = fig.colorbar(im2, cax=cax)\n",
    "    cbar.set_ticks([0,1,2,3,4,5,6,7,8,9,10])\n",
    "    cbar.set_ticklabels(classes)\n",
    "\n",
    "    plt.savefig(f'./csv_viz/{i:04}.png', dpi=300)"
   ]
  },
  {
   "cell_type": "code",
   "execution_count": null,
   "metadata": {},
   "outputs": [],
   "source": []
  },
  {
   "cell_type": "code",
   "execution_count": null,
   "metadata": {},
   "outputs": [],
   "source": []
  }
 ],
 "metadata": {
  "kernelspec": {
   "display_name": "Python 3",
   "language": "python",
   "name": "python3"
  },
  "language_info": {
   "codemirror_mode": {
    "name": "ipython",
    "version": 3
   },
   "file_extension": ".py",
   "mimetype": "text/x-python",
   "name": "python",
   "nbconvert_exporter": "python",
   "pygments_lexer": "ipython3",
   "version": "3.9.13"
  },
  "orig_nbformat": 4,
  "vscode": {
   "interpreter": {
    "hash": "9f992dc107306b3a732e46b283e7d2a3b1285a33f2d32ee03f286f65949522cb"
   }
  }
 },
 "nbformat": 4,
 "nbformat_minor": 2
}
